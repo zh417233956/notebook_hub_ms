{
 "cells": [
  {
   "cell_type": "code",
   "execution_count": 5,
   "id": "07817843-ce54-4c82-a434-5067d990418a",
   "metadata": {
    "ExecutionIndicator": {
     "show": true
    },
    "execution": {
     "iopub.execute_input": "2024-09-24T03:11:03.566444Z",
     "iopub.status.busy": "2024-09-24T03:11:03.566117Z",
     "iopub.status.idle": "2024-09-24T03:11:03.569692Z",
     "shell.execute_reply": "2024-09-24T03:11:03.569270Z",
     "shell.execute_reply.started": "2024-09-24T03:11:03.566423Z"
    },
    "tags": []
   },
   "outputs": [
    {
     "name": "stdout",
     "output_type": "stream",
     "text": [
      "/mnt/workspace/demo\n"
     ]
    }
   ],
   "source": [
    "%cd demo"
   ]
  },
  {
   "cell_type": "code",
   "execution_count": 1,
   "id": "507c9105-b622-4021-80d6-2d71f64d44a3",
   "metadata": {
    "execution": {
     "iopub.execute_input": "2024-09-24T02:13:40.952424Z",
     "iopub.status.busy": "2024-09-24T02:13:40.952092Z",
     "iopub.status.idle": "2024-09-24T02:13:44.279667Z",
     "shell.execute_reply": "2024-09-24T02:13:44.279150Z",
     "shell.execute_reply.started": "2024-09-24T02:13:40.952405Z"
    },
    "tags": []
   },
   "outputs": [
    {
     "name": "stdout",
     "output_type": "stream",
     "text": [
      "正克隆到 'SenseVoice'...\n",
      "remote: Enumerating objects: 337, done.\u001b[K\n",
      "remote: Counting objects: 100% (138/138), done.\u001b[K\n",
      "remote: Compressing objects: 100% (75/75), done.\u001b[K\n",
      "remote: Total 337 (delta 99), reused 79 (delta 63), pack-reused 199 (from 1)\u001b[K\n",
      "接收对象中: 100% (337/337), 6.60 MiB | 4.01 MiB/s, 完成.\n",
      "处理 delta 中: 100% (201/201), 完成.\n"
     ]
    }
   ],
   "source": [
    "!git clone https://github.com/FunAudioLLM/SenseVoice"
   ]
  },
  {
   "cell_type": "code",
   "execution_count": 2,
   "id": "646bccc4-bb5e-4cdd-b57c-0f9342ba9aa3",
   "metadata": {
    "execution": {
     "iopub.execute_input": "2024-09-24T03:03:18.863076Z",
     "iopub.status.busy": "2024-09-24T03:03:18.862754Z",
     "iopub.status.idle": "2024-09-24T03:03:18.866728Z",
     "shell.execute_reply": "2024-09-24T03:03:18.866312Z",
     "shell.execute_reply.started": "2024-09-24T03:03:18.863054Z"
    },
    "tags": []
   },
   "outputs": [
    {
     "name": "stdout",
     "output_type": "stream",
     "text": [
      "/mnt/workspace/SenseVoice\n"
     ]
    }
   ],
   "source": [
    "%cd SenseVoice"
   ]
  },
  {
   "cell_type": "code",
   "execution_count": 3,
   "id": "d87440bf-5ae5-4eff-bac9-84925a52d8c5",
   "metadata": {
    "execution": {
     "iopub.execute_input": "2024-09-23T08:02:19.301953Z",
     "iopub.status.busy": "2024-09-23T08:02:19.301644Z",
     "iopub.status.idle": "2024-09-23T08:02:57.324719Z",
     "shell.execute_reply": "2024-09-23T08:02:57.324037Z",
     "shell.execute_reply.started": "2024-09-23T08:02:19.301935Z"
    },
    "tags": []
   },
   "outputs": [
    {
     "name": "stdout",
     "output_type": "stream",
     "text": [
      "Looking in indexes: https://mirrors.cloud.aliyuncs.com/pypi/simple\n",
      "Collecting torch<=2.3\n",
      "  Downloading https://mirrors.cloud.aliyuncs.com/pypi/packages/43/e5/2ddae60ae999b224aceb74490abeb885ee118227f866cb12046f0481d4c9/torch-2.3.0-cp310-cp310-manylinux1_x86_64.whl (779.1 MB)\n",
      "\u001b[2K     \u001b[90m━━━━━━━━━━━━━━━━━━━━━━━━━━━━━━━━━━━━━━━\u001b[0m \u001b[32m779.1/779.1 MB\u001b[0m \u001b[31m3.8 MB/s\u001b[0m eta \u001b[36m0:00:00\u001b[0m00:01\u001b[0m00:01\u001b[0m\n",
      "\u001b[?25hRequirement already satisfied: torchaudio in /usr/local/lib/python3.10/site-packages (from -r requirements.txt (line 2)) (2.3.0+cpu)\n",
      "Requirement already satisfied: modelscope in /usr/local/lib/python3.10/site-packages (from -r requirements.txt (line 3)) (1.18.0)\n",
      "Collecting huggingface\n",
      "  Downloading https://mirrors.cloud.aliyuncs.com/pypi/packages/f4/8c/e61fbc39c0a37140e1d4941c4af29e2d53bacf9f4559e3de24d8f4e484f0/huggingface-0.0.1-py3-none-any.whl (2.5 kB)\n",
      "Requirement already satisfied: huggingface_hub in /usr/local/lib/python3.10/site-packages (from -r requirements.txt (line 5)) (0.24.2)\n",
      "Requirement already satisfied: funasr>=1.1.3 in /usr/local/lib/python3.10/site-packages (from -r requirements.txt (line 6)) (1.1.6)\n",
      "Requirement already satisfied: numpy<=1.26.4 in /usr/local/lib/python3.10/site-packages (from -r requirements.txt (line 7)) (1.26.4)\n",
      "Collecting gradio\n",
      "  Downloading https://mirrors.cloud.aliyuncs.com/pypi/packages/00/ce/9c969f7c591c21cd0f419b6cd95273cdcd4efbc6dce3b75b619b821d71fb/gradio-4.44.0-py3-none-any.whl (18.1 MB)\n",
      "\u001b[2K     \u001b[90m━━━━━━━━━━━━━━━━━━━━━━━━━━━━━━━━━━━━━━━━\u001b[0m \u001b[32m18.1/18.1 MB\u001b[0m \u001b[31m94.5 MB/s\u001b[0m eta \u001b[36m0:00:00\u001b[0m00:01\u001b[0m00:01\u001b[0m\n",
      "\u001b[?25hRequirement already satisfied: fastapi>=0.111.1 in /usr/local/lib/python3.10/site-packages (from -r requirements.txt (line 9)) (0.111.1)\n",
      "Requirement already satisfied: nvidia-cusparse-cu12==12.1.0.106 in /usr/local/lib/python3.10/site-packages (from torch<=2.3->-r requirements.txt (line 1)) (12.1.0.106)\n",
      "Requirement already satisfied: nvidia-curand-cu12==10.3.2.106 in /usr/local/lib/python3.10/site-packages (from torch<=2.3->-r requirements.txt (line 1)) (10.3.2.106)\n",
      "Requirement already satisfied: nvidia-cusolver-cu12==11.4.5.107 in /usr/local/lib/python3.10/site-packages (from torch<=2.3->-r requirements.txt (line 1)) (11.4.5.107)\n",
      "Requirement already satisfied: jinja2 in /usr/local/lib/python3.10/site-packages (from torch<=2.3->-r requirements.txt (line 1)) (3.1.4)\n",
      "Requirement already satisfied: nvidia-cufft-cu12==11.0.2.54 in /usr/local/lib/python3.10/site-packages (from torch<=2.3->-r requirements.txt (line 1)) (11.0.2.54)\n",
      "Requirement already satisfied: nvidia-nvtx-cu12==12.1.105 in /usr/local/lib/python3.10/site-packages (from torch<=2.3->-r requirements.txt (line 1)) (12.1.105)\n",
      "Requirement already satisfied: nvidia-nccl-cu12==2.20.5 in /usr/local/lib/python3.10/site-packages (from torch<=2.3->-r requirements.txt (line 1)) (2.20.5)\n",
      "Requirement already satisfied: nvidia-cuda-runtime-cu12==12.1.105 in /usr/local/lib/python3.10/site-packages (from torch<=2.3->-r requirements.txt (line 1)) (12.1.105)\n",
      "Requirement already satisfied: nvidia-cuda-cupti-cu12==12.1.105 in /usr/local/lib/python3.10/site-packages (from torch<=2.3->-r requirements.txt (line 1)) (12.1.105)\n",
      "Collecting triton==2.3.0\n",
      "  Downloading https://mirrors.cloud.aliyuncs.com/pypi/packages/db/ee/8d50d44ed5b63677bb387f4ee67a7dbaaded0189b320ffe82685a6827728/triton-2.3.0-cp310-cp310-manylinux_2_17_x86_64.manylinux2014_x86_64.whl (168.1 MB)\n",
      "\u001b[2K     \u001b[90m━━━━━━━━━━━━━━━━━━━━━━━━━━━━━━━━━━━━━━\u001b[0m \u001b[32m168.1/168.1 MB\u001b[0m \u001b[31m13.3 MB/s\u001b[0m eta \u001b[36m0:00:00\u001b[0m00:01\u001b[0m00:01\u001b[0m\n",
      "\u001b[?25hRequirement already satisfied: typing-extensions>=4.8.0 in /usr/local/lib/python3.10/site-packages (from torch<=2.3->-r requirements.txt (line 1)) (4.12.0)\n",
      "Requirement already satisfied: sympy in /usr/local/lib/python3.10/site-packages (from torch<=2.3->-r requirements.txt (line 1)) (1.12.1)\n",
      "Requirement already satisfied: fsspec in /usr/local/lib/python3.10/site-packages (from torch<=2.3->-r requirements.txt (line 1)) (2024.5.0)\n",
      "Requirement already satisfied: nvidia-cudnn-cu12==8.9.2.26 in /usr/local/lib/python3.10/site-packages (from torch<=2.3->-r requirements.txt (line 1)) (8.9.2.26)\n",
      "Requirement already satisfied: filelock in /usr/local/lib/python3.10/site-packages (from torch<=2.3->-r requirements.txt (line 1)) (3.14.0)\n",
      "Requirement already satisfied: nvidia-cuda-nvrtc-cu12==12.1.105 in /usr/local/lib/python3.10/site-packages (from torch<=2.3->-r requirements.txt (line 1)) (12.1.105)\n",
      "Requirement already satisfied: networkx in /usr/local/lib/python3.10/site-packages (from torch<=2.3->-r requirements.txt (line 1)) (3.3)\n",
      "Requirement already satisfied: nvidia-cublas-cu12==12.1.3.1 in /usr/local/lib/python3.10/site-packages (from torch<=2.3->-r requirements.txt (line 1)) (12.1.3.1)\n",
      "Requirement already satisfied: nvidia-nvjitlink-cu12 in /usr/local/lib/python3.10/site-packages (from nvidia-cusolver-cu12==11.4.5.107->torch<=2.3->-r requirements.txt (line 1)) (12.6.68)\n",
      "Requirement already satisfied: tqdm>=4.64.0 in /usr/local/lib/python3.10/site-packages (from modelscope->-r requirements.txt (line 3)) (4.66.4)\n",
      "Requirement already satisfied: requests>=2.25 in /usr/local/lib/python3.10/site-packages (from modelscope->-r requirements.txt (line 3)) (2.32.3)\n",
      "Requirement already satisfied: urllib3>=1.26 in /usr/local/lib/python3.10/site-packages (from modelscope->-r requirements.txt (line 3)) (2.2.1)\n",
      "Requirement already satisfied: packaging>=20.9 in /usr/local/lib/python3.10/site-packages (from huggingface_hub->-r requirements.txt (line 5)) (24.0)\n",
      "Requirement already satisfied: pyyaml>=5.1 in /usr/local/lib/python3.10/site-packages (from huggingface_hub->-r requirements.txt (line 5)) (6.0.1)\n",
      "Requirement already satisfied: torch-complex in /usr/local/lib/python3.10/site-packages (from funasr>=1.1.3->-r requirements.txt (line 6)) (0.4.4)\n",
      "Requirement already satisfied: umap-learn in /usr/local/lib/python3.10/site-packages (from funasr>=1.1.3->-r requirements.txt (line 6)) (0.5.6)\n",
      "Requirement already satisfied: jaconv in /usr/local/lib/python3.10/site-packages (from funasr>=1.1.3->-r requirements.txt (line 6)) (0.4.0)\n",
      "Requirement already satisfied: scipy>=1.4.1 in /usr/local/lib/python3.10/site-packages (from funasr>=1.1.3->-r requirements.txt (line 6)) (1.12.0)\n",
      "Requirement already satisfied: sentencepiece in /usr/local/lib/python3.10/site-packages (from funasr>=1.1.3->-r requirements.txt (line 6)) (0.2.0)\n",
      "Requirement already satisfied: librosa in /usr/local/lib/python3.10/site-packages (from funasr>=1.1.3->-r requirements.txt (line 6)) (0.10.2.post1)\n",
      "Requirement already satisfied: tensorboardX in /usr/local/lib/python3.10/site-packages (from funasr>=1.1.3->-r requirements.txt (line 6)) (2.6.2.2)\n",
      "Requirement already satisfied: jieba in /usr/local/lib/python3.10/site-packages (from funasr>=1.1.3->-r requirements.txt (line 6)) (0.42.1)\n",
      "Requirement already satisfied: oss2 in /usr/local/lib/python3.10/site-packages (from funasr>=1.1.3->-r requirements.txt (line 6)) (2.18.6)\n",
      "Requirement already satisfied: hydra-core>=1.3.2 in /usr/local/lib/python3.10/site-packages (from funasr>=1.1.3->-r requirements.txt (line 6)) (1.3.2)\n",
      "Requirement already satisfied: kaldiio>=2.17.0 in /usr/local/lib/python3.10/site-packages (from funasr>=1.1.3->-r requirements.txt (line 6)) (2.18.0)\n",
      "Requirement already satisfied: editdistance>=0.5.2 in /usr/local/lib/python3.10/site-packages (from funasr>=1.1.3->-r requirements.txt (line 6)) (0.5.2)\n",
      "Requirement already satisfied: jamo in /usr/local/lib/python3.10/site-packages (from funasr>=1.1.3->-r requirements.txt (line 6)) (0.4.1)\n",
      "Requirement already satisfied: pytorch-wpe in /usr/local/lib/python3.10/site-packages (from funasr>=1.1.3->-r requirements.txt (line 6)) (0.0.1)\n",
      "Requirement already satisfied: soundfile>=0.12.1 in /usr/local/lib/python3.10/site-packages (from funasr>=1.1.3->-r requirements.txt (line 6)) (0.12.1)\n",
      "Collecting orjson~=3.0\n",
      "  Downloading https://mirrors.cloud.aliyuncs.com/pypi/packages/b6/bc/fbd345d771a73cacc5b0e774d034cd081590b336754c511f4ead9fdc4cf1/orjson-3.10.7-cp310-cp310-manylinux_2_17_x86_64.manylinux2014_x86_64.whl (141 kB)\n",
      "\u001b[2K     \u001b[90m━━━━━━━━━━━━━━━━━━━━━━━━━━━━━━━━━━━━━━━\u001b[0m \u001b[32m141.9/141.9 kB\u001b[0m \u001b[31m9.5 MB/s\u001b[0m eta \u001b[36m0:00:00\u001b[0m\n",
      "\u001b[?25hRequirement already satisfied: pandas<3.0,>=1.0 in /usr/local/lib/python3.10/site-packages (from gradio->-r requirements.txt (line 8)) (2.2.2)\n",
      "Collecting ruff>=0.2.2\n",
      "  Downloading https://mirrors.cloud.aliyuncs.com/pypi/packages/9f/55/53f10c1bd8c3b2ae79aed18e62b22c6346f9296aa0ec80489b8442bd06a9/ruff-0.6.7-py3-none-manylinux_2_17_x86_64.manylinux2014_x86_64.whl (10.8 MB)\n",
      "\u001b[2K     \u001b[90m━━━━━━━━━━━━━━━━━━━━━━━━━━━━━━━━━━━━━━━━\u001b[0m \u001b[32m10.8/10.8 MB\u001b[0m \u001b[31m88.8 MB/s\u001b[0m eta \u001b[36m0:00:00\u001b[0m00:01\u001b[0m0:01\u001b[0m\n",
      "\u001b[?25hRequirement already satisfied: httpx>=0.24.1 in /usr/local/lib/python3.10/site-packages (from gradio->-r requirements.txt (line 8)) (0.27.0)\n",
      "Requirement already satisfied: pillow<11.0,>=8.0 in /usr/local/lib/python3.10/site-packages (from gradio->-r requirements.txt (line 8)) (10.3.0)\n",
      "Collecting ffmpy\n",
      "  Downloading https://mirrors.cloud.aliyuncs.com/pypi/packages/ff/1e/db99aa669eee301966bc6c997d60a0240f9cecae63f044b2e5a5310e4bf7/ffmpy-0.4.0-py3-none-any.whl (5.8 kB)\n",
      "Requirement already satisfied: markupsafe~=2.0 in /usr/local/lib/python3.10/site-packages (from gradio->-r requirements.txt (line 8)) (2.1.5)\n",
      "Collecting importlib-resources<7.0,>=1.3\n",
      "  Downloading https://mirrors.cloud.aliyuncs.com/pypi/packages/e1/6a/4604f9ae2fa62ef47b9de2fa5ad599589d28c9fd1d335f32759813dfa91e/importlib_resources-6.4.5-py3-none-any.whl (36 kB)\n",
      "Collecting semantic-version~=2.0\n",
      "  Downloading https://mirrors.cloud.aliyuncs.com/pypi/packages/6a/23/8146aad7d88f4fcb3a6218f41a60f6c2d4e3a72de72da1825dc7c8f7877c/semantic_version-2.10.0-py2.py3-none-any.whl (15 kB)\n",
      "Requirement already satisfied: typer<1.0,>=0.12 in /usr/local/lib/python3.10/site-packages (from gradio->-r requirements.txt (line 8)) (0.12.3)\n",
      "Collecting gradio-client==1.3.0\n",
      "  Downloading https://mirrors.cloud.aliyuncs.com/pypi/packages/de/fe/7e9cb4d0e6aa74268fa31089189e4855882a0f2a36c45d359336946d4ae1/gradio_client-1.3.0-py3-none-any.whl (318 kB)\n",
      "\u001b[2K     \u001b[90m━━━━━━━━━━━━━━━━━━━━━━━━━━━━━━━━━━━━━━\u001b[0m \u001b[32m318.7/318.7 kB\u001b[0m \u001b[31m78.7 MB/s\u001b[0m eta \u001b[36m0:00:00\u001b[0m\n",
      "\u001b[?25hRequirement already satisfied: pydantic>=2.0 in /usr/local/lib/python3.10/site-packages (from gradio->-r requirements.txt (line 8)) (2.7.2)\n",
      "Collecting pydub\n",
      "  Downloading https://mirrors.cloud.aliyuncs.com/pypi/packages/a6/53/d78dc063216e62fc55f6b2eebb447f6a4b0a59f55c8406376f76bf959b08/pydub-0.25.1-py2.py3-none-any.whl (32 kB)\n",
      "Requirement already satisfied: matplotlib~=3.0 in /usr/local/lib/python3.10/site-packages (from gradio->-r requirements.txt (line 8)) (3.9.0)\n",
      "Collecting aiofiles<24.0,>=22.0\n",
      "  Downloading https://mirrors.cloud.aliyuncs.com/pypi/packages/c5/19/5af6804c4cc0fed83f47bff6e413a98a36618e7d40185cd36e69737f3b0e/aiofiles-23.2.1-py3-none-any.whl (15 kB)\n",
      "Requirement already satisfied: anyio<5.0,>=3.0 in /usr/local/lib/python3.10/site-packages (from gradio->-r requirements.txt (line 8)) (4.4.0)\n",
      "Requirement already satisfied: uvicorn>=0.14.0 in /usr/local/lib/python3.10/site-packages (from gradio->-r requirements.txt (line 8)) (0.30.3)\n",
      "Collecting tomlkit==0.12.0\n",
      "  Downloading https://mirrors.cloud.aliyuncs.com/pypi/packages/68/4f/12207897848a653d03ebbf6775a29d949408ded5f99b2d87198bc5c93508/tomlkit-0.12.0-py3-none-any.whl (37 kB)\n",
      "Requirement already satisfied: python-multipart>=0.0.9 in /usr/local/lib/python3.10/site-packages (from gradio->-r requirements.txt (line 8)) (0.0.9)\n",
      "Requirement already satisfied: websockets<13.0,>=10.0 in /usr/local/lib/python3.10/site-packages (from gradio-client==1.3.0->gradio->-r requirements.txt (line 8)) (12.0)\n",
      "Requirement already satisfied: starlette<0.38.0,>=0.37.2 in /usr/local/lib/python3.10/site-packages (from fastapi>=0.111.1->-r requirements.txt (line 9)) (0.37.2)\n",
      "Requirement already satisfied: fastapi-cli>=0.0.2 in /usr/local/lib/python3.10/site-packages (from fastapi>=0.111.1->-r requirements.txt (line 9)) (0.0.4)\n",
      "Requirement already satisfied: email_validator>=2.0.0 in /usr/local/lib/python3.10/site-packages (from fastapi>=0.111.1->-r requirements.txt (line 9)) (2.2.0)\n",
      "Requirement already satisfied: sniffio>=1.1 in /usr/local/lib/python3.10/site-packages (from anyio<5.0,>=3.0->gradio->-r requirements.txt (line 8)) (1.3.1)\n",
      "Requirement already satisfied: idna>=2.8 in /usr/local/lib/python3.10/site-packages (from anyio<5.0,>=3.0->gradio->-r requirements.txt (line 8)) (3.7)\n",
      "Requirement already satisfied: exceptiongroup>=1.0.2 in /usr/local/lib/python3.10/site-packages (from anyio<5.0,>=3.0->gradio->-r requirements.txt (line 8)) (1.2.1)\n",
      "Requirement already satisfied: dnspython>=2.0.0 in /usr/local/lib/python3.10/site-packages (from email_validator>=2.0.0->fastapi>=0.111.1->-r requirements.txt (line 9)) (2.3.0)\n",
      "Requirement already satisfied: certifi in /usr/local/lib/python3.10/site-packages (from httpx>=0.24.1->gradio->-r requirements.txt (line 8)) (2024.2.2)\n",
      "Requirement already satisfied: httpcore==1.* in /usr/local/lib/python3.10/site-packages (from httpx>=0.24.1->gradio->-r requirements.txt (line 8)) (1.0.5)\n",
      "Requirement already satisfied: h11<0.15,>=0.13 in /usr/local/lib/python3.10/site-packages (from httpcore==1.*->httpx>=0.24.1->gradio->-r requirements.txt (line 8)) (0.14.0)\n",
      "Requirement already satisfied: antlr4-python3-runtime==4.9.* in /usr/local/lib/python3.10/site-packages (from hydra-core>=1.3.2->funasr>=1.1.3->-r requirements.txt (line 6)) (4.9.3)\n",
      "Requirement already satisfied: omegaconf<2.4,>=2.2 in /usr/local/lib/python3.10/site-packages (from hydra-core>=1.3.2->funasr>=1.1.3->-r requirements.txt (line 6)) (2.3.0)\n",
      "Requirement already satisfied: python-dateutil>=2.7 in /usr/local/lib/python3.10/site-packages (from matplotlib~=3.0->gradio->-r requirements.txt (line 8)) (2.9.0.post0)\n",
      "Requirement already satisfied: contourpy>=1.0.1 in /usr/local/lib/python3.10/site-packages (from matplotlib~=3.0->gradio->-r requirements.txt (line 8)) (1.2.1)\n",
      "Requirement already satisfied: pyparsing>=2.3.1 in /usr/local/lib/python3.10/site-packages (from matplotlib~=3.0->gradio->-r requirements.txt (line 8)) (3.1.2)\n",
      "Requirement already satisfied: cycler>=0.10 in /usr/local/lib/python3.10/site-packages (from matplotlib~=3.0->gradio->-r requirements.txt (line 8)) (0.12.1)\n",
      "Requirement already satisfied: kiwisolver>=1.3.1 in /usr/local/lib/python3.10/site-packages (from matplotlib~=3.0->gradio->-r requirements.txt (line 8)) (1.4.5)\n",
      "Requirement already satisfied: fonttools>=4.22.0 in /usr/local/lib/python3.10/site-packages (from matplotlib~=3.0->gradio->-r requirements.txt (line 8)) (4.53.0)\n",
      "Requirement already satisfied: tzdata>=2022.7 in /usr/local/lib/python3.10/site-packages (from pandas<3.0,>=1.0->gradio->-r requirements.txt (line 8)) (2024.1)\n",
      "Requirement already satisfied: pytz>=2020.1 in /usr/local/lib/python3.10/site-packages (from pandas<3.0,>=1.0->gradio->-r requirements.txt (line 8)) (2024.1)\n",
      "Requirement already satisfied: pydantic-core==2.18.3 in /usr/local/lib/python3.10/site-packages (from pydantic>=2.0->gradio->-r requirements.txt (line 8)) (2.18.3)\n",
      "Requirement already satisfied: annotated-types>=0.4.0 in /usr/local/lib/python3.10/site-packages (from pydantic>=2.0->gradio->-r requirements.txt (line 8)) (0.7.0)\n",
      "Requirement already satisfied: charset-normalizer<4,>=2 in /usr/local/lib/python3.10/site-packages (from requests>=2.25->modelscope->-r requirements.txt (line 3)) (3.3.2)\n",
      "Requirement already satisfied: cffi>=1.0 in /usr/local/lib/python3.10/site-packages (from soundfile>=0.12.1->funasr>=1.1.3->-r requirements.txt (line 6)) (1.16.0)\n",
      "Requirement already satisfied: shellingham>=1.3.0 in /usr/local/lib/python3.10/site-packages (from typer<1.0,>=0.12->gradio->-r requirements.txt (line 8)) (1.5.4)\n",
      "Requirement already satisfied: rich>=10.11.0 in /usr/local/lib/python3.10/site-packages (from typer<1.0,>=0.12->gradio->-r requirements.txt (line 8)) (13.7.1)\n",
      "Requirement already satisfied: click>=8.0.0 in /usr/local/lib/python3.10/site-packages (from typer<1.0,>=0.12->gradio->-r requirements.txt (line 8)) (8.1.7)\n",
      "Requirement already satisfied: watchfiles>=0.13 in /usr/local/lib/python3.10/site-packages (from uvicorn>=0.14.0->gradio->-r requirements.txt (line 8)) (0.22.0)\n",
      "Requirement already satisfied: httptools>=0.5.0 in /usr/local/lib/python3.10/site-packages (from uvicorn>=0.14.0->gradio->-r requirements.txt (line 8)) (0.6.1)\n",
      "Requirement already satisfied: uvloop!=0.15.0,!=0.15.1,>=0.14.0 in /usr/local/lib/python3.10/site-packages (from uvicorn>=0.14.0->gradio->-r requirements.txt (line 8)) (0.19.0)\n",
      "Requirement already satisfied: python-dotenv>=0.13 in /usr/local/lib/python3.10/site-packages (from uvicorn>=0.14.0->gradio->-r requirements.txt (line 8)) (1.0.1)\n",
      "Requirement already satisfied: joblib>=0.14 in /usr/local/lib/python3.10/site-packages (from librosa->funasr>=1.1.3->-r requirements.txt (line 6)) (1.4.2)\n",
      "Requirement already satisfied: msgpack>=1.0 in /usr/local/lib/python3.10/site-packages (from librosa->funasr>=1.1.3->-r requirements.txt (line 6)) (1.0.8)\n",
      "Requirement already satisfied: decorator>=4.3.0 in /usr/local/lib/python3.10/site-packages (from librosa->funasr>=1.1.3->-r requirements.txt (line 6)) (4.4.2)\n",
      "Requirement already satisfied: numba>=0.51.0 in /usr/local/lib/python3.10/site-packages (from librosa->funasr>=1.1.3->-r requirements.txt (line 6)) (0.60.0)\n",
      "Requirement already satisfied: lazy-loader>=0.1 in /usr/local/lib/python3.10/site-packages (from librosa->funasr>=1.1.3->-r requirements.txt (line 6)) (0.4)\n",
      "Requirement already satisfied: pooch>=1.1 in /usr/local/lib/python3.10/site-packages (from librosa->funasr>=1.1.3->-r requirements.txt (line 6)) (1.8.2)\n",
      "Requirement already satisfied: soxr>=0.3.2 in /usr/local/lib/python3.10/site-packages (from librosa->funasr>=1.1.3->-r requirements.txt (line 6)) (0.4.0)\n",
      "Requirement already satisfied: scikit-learn>=0.20.0 in /usr/local/lib/python3.10/site-packages (from librosa->funasr>=1.1.3->-r requirements.txt (line 6)) (1.5.0)\n",
      "Requirement already satisfied: audioread>=2.1.9 in /usr/local/lib/python3.10/site-packages (from librosa->funasr>=1.1.3->-r requirements.txt (line 6)) (3.0.1)\n",
      "Requirement already satisfied: pycryptodome>=3.4.7 in /usr/local/lib/python3.10/site-packages (from oss2->funasr>=1.1.3->-r requirements.txt (line 6)) (3.20.0)\n",
      "Requirement already satisfied: aliyun-python-sdk-core>=2.13.12 in /usr/local/lib/python3.10/site-packages (from oss2->funasr>=1.1.3->-r requirements.txt (line 6)) (2.15.1)\n",
      "Requirement already satisfied: crcmod>=1.7 in /usr/local/lib/python3.10/site-packages (from oss2->funasr>=1.1.3->-r requirements.txt (line 6)) (1.7)\n",
      "Requirement already satisfied: six in /usr/local/lib/python3.10/site-packages (from oss2->funasr>=1.1.3->-r requirements.txt (line 6)) (1.16.0)\n",
      "Requirement already satisfied: aliyun-python-sdk-kms>=2.4.1 in /usr/local/lib/python3.10/site-packages (from oss2->funasr>=1.1.3->-r requirements.txt (line 6)) (2.16.3)\n",
      "Requirement already satisfied: mpmath<1.4.0,>=1.1.0 in /usr/local/lib/python3.10/site-packages (from sympy->torch<=2.3->-r requirements.txt (line 1)) (1.3.0)\n",
      "Requirement already satisfied: protobuf>=3.20 in /usr/local/lib/python3.10/site-packages (from tensorboardX->funasr>=1.1.3->-r requirements.txt (line 6)) (3.20.3)\n",
      "Requirement already satisfied: pynndescent>=0.5 in /usr/local/lib/python3.10/site-packages (from umap-learn->funasr>=1.1.3->-r requirements.txt (line 6)) (0.5.13)\n",
      "Requirement already satisfied: cryptography>=2.6.0 in /usr/local/lib/python3.10/site-packages (from aliyun-python-sdk-core>=2.13.12->oss2->funasr>=1.1.3->-r requirements.txt (line 6)) (43.0.0)\n",
      "Requirement already satisfied: jmespath<1.0.0,>=0.9.3 in /usr/local/lib/python3.10/site-packages (from aliyun-python-sdk-core>=2.13.12->oss2->funasr>=1.1.3->-r requirements.txt (line 6)) (0.10.0)\n",
      "Requirement already satisfied: pycparser in /usr/local/lib/python3.10/site-packages (from cffi>=1.0->soundfile>=0.12.1->funasr>=1.1.3->-r requirements.txt (line 6)) (2.22)\n",
      "Requirement already satisfied: llvmlite<0.44,>=0.43.0dev0 in /usr/local/lib/python3.10/site-packages (from numba>=0.51.0->librosa->funasr>=1.1.3->-r requirements.txt (line 6)) (0.43.0)\n",
      "Requirement already satisfied: platformdirs>=2.5.0 in /usr/local/lib/python3.10/site-packages (from pooch>=1.1->librosa->funasr>=1.1.3->-r requirements.txt (line 6)) (4.2.2)\n",
      "Requirement already satisfied: markdown-it-py>=2.2.0 in /usr/local/lib/python3.10/site-packages (from rich>=10.11.0->typer<1.0,>=0.12->gradio->-r requirements.txt (line 8)) (3.0.0)\n",
      "Requirement already satisfied: pygments<3.0.0,>=2.13.0 in /usr/local/lib/python3.10/site-packages (from rich>=10.11.0->typer<1.0,>=0.12->gradio->-r requirements.txt (line 8)) (2.18.0)\n",
      "Requirement already satisfied: threadpoolctl>=3.1.0 in /usr/local/lib/python3.10/site-packages (from scikit-learn>=0.20.0->librosa->funasr>=1.1.3->-r requirements.txt (line 6)) (3.5.0)\n",
      "Requirement already satisfied: mdurl~=0.1 in /usr/local/lib/python3.10/site-packages (from markdown-it-py>=2.2.0->rich>=10.11.0->typer<1.0,>=0.12->gradio->-r requirements.txt (line 8)) (0.1.2)\n",
      "Installing collected packages: pydub, huggingface, triton, tomlkit, semantic-version, ruff, orjson, importlib-resources, ffmpy, aiofiles, torch, gradio-client, gradio\n",
      "  Attempting uninstall: triton\n",
      "    Found existing installation: triton 2.3.1\n",
      "    Uninstalling triton-2.3.1:\n",
      "      Successfully uninstalled triton-2.3.1\n",
      "  Attempting uninstall: torch\n",
      "    Found existing installation: torch 2.3.1\n",
      "    Uninstalling torch-2.3.1:\n",
      "      Successfully uninstalled torch-2.3.1\n",
      "\u001b[31mERROR: pip's dependency resolver does not currently take into account all the packages that are installed. This behaviour is the source of the following dependency conflicts.\n",
      "torchvision 0.18.1 requires torch==2.3.1, but you have torch 2.3.0 which is incompatible.\n",
      "pai-easycv 0.11.6 requires timm==0.5.4, but you have timm 1.0.9 which is incompatible.\n",
      "optimum 1.21.4 requires transformers[sentencepiece]<4.44.0,>=4.29.0, but you have transformers 4.45.0.dev0 which is incompatible.\n",
      "fairseq 0.12.2 requires hydra-core<1.1,>=1.0.7, but you have hydra-core 1.3.2 which is incompatible.\n",
      "fairseq 0.12.2 requires omegaconf<2.1, but you have omegaconf 2.3.0 which is incompatible.\n",
      "easyrobust 0.2.4 requires timm==0.5.4, but you have timm 1.0.9 which is incompatible.\n",
      "autoawq 0.2.6 requires torch==2.3.1, but you have torch 2.3.0 which is incompatible.\n",
      "autoawq-kernels 0.0.7 requires torch==2.3.1, but you have torch 2.3.0 which is incompatible.\u001b[0m\u001b[31m\n",
      "\u001b[0mSuccessfully installed aiofiles-23.2.1 ffmpy-0.4.0 gradio-4.44.0 gradio-client-1.3.0 huggingface-0.0.1 importlib-resources-6.4.5 orjson-3.10.7 pydub-0.25.1 ruff-0.6.7 semantic-version-2.10.0 tomlkit-0.12.0 torch-2.3.0 triton-2.3.0\n",
      "\u001b[33mWARNING: Running pip as the 'root' user can result in broken permissions and conflicting behaviour with the system package manager. It is recommended to use a virtual environment instead: https://pip.pypa.io/warnings/venv\u001b[0m\u001b[33m\n",
      "\u001b[0m\n",
      "\u001b[1m[\u001b[0m\u001b[34;49mnotice\u001b[0m\u001b[1;39;49m]\u001b[0m\u001b[39;49m A new release of pip is available: \u001b[0m\u001b[31;49m23.0.1\u001b[0m\u001b[39;49m -> \u001b[0m\u001b[32;49m24.2\u001b[0m\n",
      "\u001b[1m[\u001b[0m\u001b[34;49mnotice\u001b[0m\u001b[1;39;49m]\u001b[0m\u001b[39;49m To update, run: \u001b[0m\u001b[32;49mpip install --upgrade pip\u001b[0m\n"
     ]
    }
   ],
   "source": [
    "!pip install -r requirements.txt"
   ]
  },
  {
   "cell_type": "code",
   "execution_count": 5,
   "id": "801424f6-d6eb-42c3-8cbf-510bf15ece03",
   "metadata": {
    "ExecutionIndicator": {
     "show": true
    },
    "execution": {
     "iopub.execute_input": "2024-09-23T08:05:28.139744Z",
     "iopub.status.busy": "2024-09-23T08:05:28.139380Z",
     "iopub.status.idle": "2024-09-23T08:06:22.778984Z",
     "shell.execute_reply": "2024-09-23T08:06:22.778507Z",
     "shell.execute_reply.started": "2024-09-23T08:05:28.139723Z"
    },
    "tags": []
   },
   "outputs": [
    {
     "name": "stdout",
     "output_type": "stream",
     "text": [
      "funasr version: 1.1.6.\n",
      "Check update of funasr, and it would cost few times. You may disable it by set `disable_update=True` in AutoModel\n",
      "You are using the latest version of funasr-1.1.6\n"
     ]
    },
    {
     "name": "stderr",
     "output_type": "stream",
     "text": [
      "2024-09-23 16:05:48,092 - modelscope - WARNING - Using branch: master as version is unstable, use with caution\n",
      "Downloading [example/.DS_Store]: 100%|██████████| 6.00k/6.00k [00:00<00:00, 11.1kB/s]\n",
      "Downloading [fig/aed_figure.png]: 100%|██████████| 116k/116k [00:00<00:00, 230kB/s]\n",
      "Downloading [am.mvn]: 100%|██████████| 10.9k/10.9k [00:00<00:00, 22.1kB/s]\n",
      "Downloading [fig/asr_results.png]: 100%|██████████| 238k/238k [00:00<00:00, 450kB/s]\n",
      "Downloading [chn_jpn_yue_eng_ko_spectok.bpe.model]: 100%|██████████| 368k/368k [00:00<00:00, 740kB/s]\n",
      "Downloading [config.yaml]: 100%|██████████| 1.81k/1.81k [00:00<00:00, 2.71kB/s]\n",
      "Downloading [configuration.json]: 100%|██████████| 396/396 [00:00<00:00, 958B/s]\n",
      "Downloading [example/en.mp3]: 100%|██████████| 56.1k/56.1k [00:00<00:00, 74.1kB/s]\n",
      "Downloading [fig/inference.png]: 100%|██████████| 935k/935k [00:00<00:00, 1.63MB/s]\n",
      "Downloading [example/ja.mp3]: 100%|██████████| 56.5k/56.5k [00:00<00:00, 108kB/s]\n",
      "Downloading [example/ko.mp3]: 100%|██████████| 27.3k/27.3k [00:00<00:00, 50.0kB/s]\n",
      "Downloading [model.pt]: 100%|██████████| 893M/893M [00:04<00:00, 192MB/s]  \n",
      "Downloading [README.md]: 100%|██████████| 9.09k/9.09k [00:00<00:00, 16.3kB/s]\n",
      "Downloading [fig/sensevoice.png]: 100%|██████████| 880k/880k [00:00<00:00, 1.66MB/s]\n",
      "Downloading [fig/ser_figure.png]: 100%|██████████| 194k/194k [00:00<00:00, 299kB/s]\n",
      "Downloading [fig/ser_table.png]: 100%|██████████| 318k/318k [00:00<00:00, 723kB/s]\n",
      "Downloading [example/yue.mp3]: 100%|██████████| 30.5k/30.5k [00:00<00:00, 57.3kB/s]\n",
      "Downloading [example/zh.mp3]: 100%|██████████| 43.9k/43.9k [00:00<00:00, 102kB/s]\n",
      "2024-09-23 16:06:06,993 - modelscope - WARNING - Using branch: master as version is unstable, use with caution\n",
      "Downloading [am.mvn]: 100%|██████████| 7.85k/7.85k [00:00<00:00, 12.2kB/s]\n",
      "Downloading [config.yaml]: 100%|██████████| 1.19k/1.19k [00:00<00:00, 2.24kB/s]\n",
      "Downloading [configuration.json]: 100%|██████████| 365/365 [00:00<00:00, 680B/s]\n",
      "Downloading [model.pt]: 100%|██████████| 1.64M/1.64M [00:00<00:00, 3.69MB/s]\n",
      "Downloading [README.md]: 100%|██████████| 10.6k/10.6k [00:08<00:00, 1.32kB/s]\n",
      "Downloading [fig/struct.png]: 100%|██████████| 27.3k/27.3k [00:00<00:00, 55.7kB/s]\n",
      "Downloading [example/vad_example.wav]: 100%|██████████| 2.16M/2.16M [00:04<00:00, 516kB/s]\n"
     ]
    }
   ],
   "source": [
    "from funasr import AutoModel\n",
    "from funasr.utils.postprocess_utils import rich_transcription_postprocess\n",
    "\n",
    "model_dir = \"iic/SenseVoiceSmall\"\n",
    "\n",
    "\n",
    "model = AutoModel(\n",
    "    model=model_dir,\n",
    "    vad_model=\"fsmn-vad\",\n",
    "    vad_kwargs={\"max_single_segment_time\": 30000},\n",
    "    device=\"cuda:0\",\n",
    "    # hub=\"hf\",\n",
    ")"
   ]
  },
  {
   "cell_type": "code",
   "execution_count": 8,
   "id": "a7f72982-af27-4de6-a299-ffdbbf811d32",
   "metadata": {
    "ExecutionIndicator": {
     "show": true
    },
    "execution": {
     "iopub.execute_input": "2024-09-23T08:10:10.981457Z",
     "iopub.status.busy": "2024-09-23T08:10:10.981078Z",
     "iopub.status.idle": "2024-09-23T08:10:12.664945Z",
     "shell.execute_reply": "2024-09-23T08:10:12.664472Z",
     "shell.execute_reply.started": "2024-09-23T08:10:10.981433Z"
    },
    "tags": []
   },
   "outputs": [
    {
     "name": "stderr",
     "output_type": "stream",
     "text": [
      "rtf_avg: 0.007: 100%|\u001b[34m██████████\u001b[0m| 1/1 [00:00<00:00,  3.09it/s]                                                                                          \n",
      "  0%|\u001b[31m          \u001b[0m| 0/1 [00:00<?, ?it/s]\n",
      "  0%|\u001b[34m          \u001b[0m| 0/1 [00:00<?, ?it/s]\u001b[A\n",
      "100%|\u001b[34m██████████\u001b[0m| 1/1 [00:00<00:00,  4.06it/s]\u001b[A\n",
      "{'load_data': '0.000', 'extract_feat': '0.004', 'forward': '0.246', 'batch_size': '1', 'rtf': '0.040'}, : 100%|\u001b[34m██████████\u001b[0m| 1/1 [00:00<00:00,  4.06it/s]\u001b[A\n",
      "rtf_avg: 0.040: 100%|\u001b[34m██████████\u001b[0m| 1/1 [00:00<00:00,  4.00it/s]                                                                                          \u001b[A\n",
      "\n",
      "  0%|\u001b[34m          \u001b[0m| 0/1 [00:00<?, ?it/s]\u001b[A\n",
      "100%|\u001b[34m██████████\u001b[0m| 1/1 [00:00<00:00,  3.37it/s]\u001b[A\n",
      "{'load_data': '0.000', 'extract_feat': '0.006', 'forward': '0.297', 'batch_size': '1', 'rtf': '0.028'}, : 100%|\u001b[34m██████████\u001b[0m| 1/1 [00:00<00:00,  3.37it/s]\u001b[A\n",
      "rtf_avg: 0.028: 100%|\u001b[34m██████████\u001b[0m| 1/1 [00:00<00:00,  3.33it/s]                                                                                          \u001b[A\n",
      "\n",
      "  0%|\u001b[34m          \u001b[0m| 0/1 [00:00<?, ?it/s]\u001b[A\n",
      "100%|\u001b[34m██████████\u001b[0m| 1/1 [00:00<00:00,  2.65it/s]\u001b[A\n",
      "{'load_data': '0.000', 'extract_feat': '0.007', 'forward': '0.378', 'batch_size': '1', 'rtf': '0.026'}, : 100%|\u001b[34m██████████\u001b[0m| 1/1 [00:00<00:00,  2.65it/s]\u001b[A\n",
      "rtf_avg: 0.026: 100%|\u001b[34m██████████\u001b[0m| 1/1 [00:00<00:00,  2.63it/s]                                                                                          \u001b[A\n",
      "\n",
      "  0%|\u001b[34m          \u001b[0m| 0/1 [00:00<?, ?it/s]\u001b[A\n",
      "100%|\u001b[34m██████████\u001b[0m| 1/1 [00:00<00:00,  2.65it/s]\u001b[A\n",
      "{'load_data': '0.000', 'extract_feat': '0.007', 'forward': '0.378', 'batch_size': '1', 'rtf': '0.025'}, : 100%|\u001b[34m██████████\u001b[0m| 1/1 [00:00<00:00,  2.65it/s]\u001b[A\n",
      "rtf_avg: 0.025: 100%|\u001b[34m██████████\u001b[0m| 1/1 [00:00<00:00,  2.62it/s]                                                                                          \u001b[A\n",
      "rtf_avg: 0.029, time_speech:  46.440, time_escape: 1.332: 100%|\u001b[31m██████████\u001b[0m| 1/1 [00:01<00:00,  1.35s/it]"
     ]
    },
    {
     "name": "stdout",
     "output_type": "stream",
     "text": [
      "============>>>>\n",
      "[{'key': 'demo3', 'text': '<|zh|><|HAPPY|><|Speech|><|withitn|>你哎你好，我是芒果的，我看咱浏览华润二4层的房子了，咱是想买吗？啊，我了解一下啊嗯那咱俩加个微信呢，帮你介绍一下。 <|zh|><|HAPPY|><|Speech|><|withitn|>嗯，不用，我看了一下，就是我可以你是在那个我我可以就是那个搁跟那个什么里边跟你聊，问了问一下哪二楼完事多少层，我了解一下这个情啊。 <|zh|><|HAPPY|><|Speech|><|withitn|>哦，我知道但是你是你不是有需求吗？你想要什么样的房子，我不就可以直接发给你吗？ <|zh|><|HAPPY|><|Speech|><|withitn|>啊，没事，不用，我我不想加那么多微信。嗯，行，那好了，再见嗯。'}]\n",
      "============>>>>\n",
      "你哎你好，我是芒果的，我看咱浏览华润二4层的房子了，咱是想买吗？啊，我了解一下啊嗯那咱俩加个微信呢，帮你介绍一下。嗯，不用，我看了一下，就是我可以你是在那个我我可以就是那个搁跟那个什么里边跟你聊，问了问一下哪二楼完事多少层，我了解一下这个情啊。哦，我知道但是你是你不是有需求吗？你想要什么样的房子，我不就可以直接发给你吗？啊，没事，不用，我我不想加那么多微信。嗯，行，那好了，再见嗯。😊\n"
     ]
    },
    {
     "name": "stderr",
     "output_type": "stream",
     "text": [
      "\n"
     ]
    }
   ],
   "source": [
    "# auto\n",
    "fileName = \"demo3\"\n",
    "res = model.generate(\n",
    "    # input=f\"{model.model_path}/example/en.mp3\",\n",
    "    input=f\"/mnt/workspace/{fileName}.mp3\",\n",
    "    cache={},\n",
    "    language=\"auto\",  # \"zn\", \"en\", \"yue\", \"ja\", \"ko\", \"nospeech\"\n",
    "    use_itn=True,\n",
    "    batch_size_s=60,\n",
    "    merge_vad=True,  #\n",
    "    merge_length_s=15,\n",
    ")\n",
    "print(\"============>>>>\")\n",
    "print(res)\n",
    "print(\"============>>>>\")\n",
    "text = rich_transcription_postprocess(res[0][\"text\"])\n",
    "print(text)"
   ]
  },
  {
   "cell_type": "code",
   "execution_count": 9,
   "id": "bd62a9d6-72d8-47b8-8787-187d9812989a",
   "metadata": {
    "execution": {
     "iopub.execute_input": "2024-09-23T08:10:45.845864Z",
     "iopub.status.busy": "2024-09-23T08:10:45.845545Z",
     "iopub.status.idle": "2024-09-23T08:10:45.849448Z",
     "shell.execute_reply": "2024-09-23T08:10:45.849008Z",
     "shell.execute_reply.started": "2024-09-23T08:10:45.845845Z"
    },
    "tags": []
   },
   "outputs": [
    {
     "name": "stdout",
     "output_type": "stream",
     "text": [
      "内容已成功写入到 /mnt/workspace/demo3.txt\n"
     ]
    }
   ],
   "source": [
    "# 指定文件路径和要写入的字符串\n",
    "file_path = f'/mnt/workspace/{fileName}.txt'\n",
    "content = text\n",
    "\n",
    "# 使用 'w' 模式打开文件以进行写入\n",
    "with open(file_path, 'w', encoding='utf-8') as file:\n",
    "    file.write(content)\n",
    "\n",
    "print(f'内容已成功写入到 {file_path}')"
   ]
  },
  {
   "cell_type": "code",
   "execution_count": 11,
   "id": "ea373170-8b95-4d98-b6d4-31840ef98dd4",
   "metadata": {
    "ExecutionIndicator": {
     "show": true
    },
    "execution": {
     "iopub.execute_input": "2024-09-23T08:12:20.839874Z",
     "iopub.status.busy": "2024-09-23T08:12:20.839535Z",
     "iopub.status.idle": "2024-09-23T08:12:24.245177Z",
     "shell.execute_reply": "2024-09-23T08:12:24.244722Z",
     "shell.execute_reply.started": "2024-09-23T08:12:20.839855Z"
    },
    "tags": []
   },
   "outputs": [
    {
     "name": "stdout",
     "output_type": "stream",
     "text": [
      "funasr version: 1.1.6.\n",
      "Check update of funasr, and it would cost few times. You may disable it by set `disable_update=True` in AutoModel\n",
      "You are using the latest version of funasr-1.1.6\n"
     ]
    },
    {
     "name": "stderr",
     "output_type": "stream",
     "text": [
      "2024-09-23 16:12:22,780 - modelscope - INFO - Use user-specified model revision: v2.0.4\n",
      "\n",
      "  0%|\u001b[34m          \u001b[0m| 0/1 [00:00<?, ?it/s]\u001b[A\n",
      "100%|\u001b[34m██████████\u001b[0m| 1/1 [00:00<00:00,  1.73it/s]\u001b[A\n",
      "{'load_data': '0.018', 'extract_feat': '0.020', 'forward': '0.578', 'batch_size': '1', 'rtf': '0.012'}, : 100%|\u001b[34m██████████\u001b[0m| 1/1 [00:00<00:00,  1.73it/s]\u001b[A\n",
      "rtf_avg: 0.012: 100%|\u001b[34m██████████\u001b[0m| 1/1 [00:00<00:00,  1.72it/s]                                                                                          \u001b[A"
     ]
    },
    {
     "name": "stdout",
     "output_type": "stream",
     "text": [
      "[{'key': 'rand_key_2yW4Acq9GFz6Y', 'text': '你 哎 你 好 我 是 芒 果 的 我 看 咱 浏 览 华 润 二 4 层 的 房 子 了 咱 是 想 买 吗 啊 我 了 解 一 下 啊 嗯 那 咱 俩 加 个 微 信 呢 帮 你 介 绍 一 下 嗯 不 用 我 看 了 一 下 就 是 我 可 以 你 是 在 那 个 我 我 可 以 就 是 那 个 搁 跟 那 个 什 么 里 边 跟 你 聊 问 了 问 一 下 哪 二 楼 完 事 多 少 层 我 了 解 一 下 这 个 情 啊 哦 我 知 道 但 是 你 是 你 不 是 有 需 求 吗 你 想 要 什 么 样 的 房 子 我 不 就 可 以 直 接 发 给 你 吗 啊 没 事 不 用 我 我 不 想 加 那 么 多 微 信 嗯 行 那 好 了 再 见 嗯', 'timestamp': [[1190, 1290], [1290, 1450], [1450, 1690], [2570, 2810], [2810, 3050], [3050, 3290], [3310, 3510], [3510, 3710], [3710, 3950], [3990, 4210], [4210, 4290], [4290, 4430], [4430, 4510], [4510, 4650], [4650, 4830], [4830, 5010], [5010, 5170], [5170, 5310], [5310, 5430], [5430, 5590], [5590, 5750], [5750, 5870], [5870, 6050], [6050, 6290], [6310, 6390], [6390, 6530], [6530, 6670], [6670, 6770], [6770, 6910], [6910, 7150], [7150, 7390], [7450, 7690], [8750, 8910], [8910, 9050], [9050, 9290], [9290, 9450], [9450, 9610], [9610, 9690], [9690, 9930], [10050, 10290], [10950, 11190], [11250, 11390], [11390, 11530], [11530, 11650], [11650, 11830], [11830, 11950], [11950, 12170], [12170, 12410], [12410, 12650], [12990, 13170], [13170, 13250], [13250, 13370], [13370, 13550], [13550, 13650], [13650, 13830], [13830, 14070], [15630, 15870], [16270, 16430], [16430, 16630], [16630, 16770], [16770, 16950], [16950, 17090], [17090, 17230], [17230, 17310], [17310, 17450], [17450, 17570], [17570, 17690], [17690, 17930], [18110, 18230], [18230, 18350], [18350, 18590], [18690, 18830], [18830, 19070], [19130, 19370], [19370, 19610], [19610, 19850], [19850, 20090], [21130, 21370], [21410, 21530], [21530, 21670], [21670, 21830], [21830, 21890], [21890, 22070], [22070, 22310], [22330, 22510], [22510, 22750], [22850, 23090], [23110, 23230], [23230, 23410], [23410, 23650], [23710, 23870], [23870, 24110], [24270, 24410], [24410, 24530], [24530, 24610], [24610, 24730], [24730, 24870], [24870, 25110], [25130, 25210], [25210, 25370], [25370, 25590], [25590, 25730], [25730, 25870], [25870, 26110], [26230, 26410], [26410, 26570], [26570, 26810], [26950, 27090], [27090, 27210], [27210, 27310], [27310, 27430], [27430, 27630], [27630, 27870], [27870, 27970], [27970, 28110], [28110, 28210], [28210, 28290], [28290, 28390], [28390, 28490], [28490, 28610], [28610, 28810], [28810, 28890], [28890, 29130], [30050, 30290], [30830, 30970], [30970, 31110], [31110, 31230], [31230, 31350], [31350, 31510], [31510, 31690], [31690, 31930], [32009, 32150], [32150, 32270], [32270, 32369], [32369, 32450], [32450, 32590], [32590, 32790], [32790, 33030], [34370, 34530], [34530, 34670], [34670, 34810], [34810, 34970], [34970, 35110], [35110, 35230], [35230, 35470], [35510, 35750], [35770, 35910], [35910, 35990], [35990, 36170], [36170, 36290], [36290, 36370], [36370, 36510], [36510, 36630], [36630, 36750], [36750, 36950], [36950, 37050], [37050, 37170], [37170, 37310], [37310, 37550], [37550, 37690], [37690, 37770], [37770, 37910], [37910, 38030], [38030, 38190], [38190, 38410], [38410, 38530], [38530, 38670]]}]\n"
     ]
    },
    {
     "name": "stderr",
     "output_type": "stream",
     "text": [
      "\n"
     ]
    }
   ],
   "source": [
    "from funasr import AutoModel\n",
    "\n",
    "model_fa = AutoModel(model=\"fa-zh\", model_revision=\"v2.0.4\",\n",
    "    device=\"cuda:0\")\n",
    "wav_file = f\"/mnt/workspace/{fileName}.mp3\"\n",
    "text_file = f\"/mnt/workspace/{fileName}.txt\"\n",
    "res = model_fa.generate(input=(wav_file, text_file), data_type=(\"sound\", \"text\"))\n",
    "print(res)\n"
   ]
  },
  {
   "cell_type": "code",
   "execution_count": 6,
   "id": "1f033555-6953-4b79-83bb-eaae007de37d",
   "metadata": {
    "execution": {
     "iopub.execute_input": "2024-09-23T08:08:06.045515Z",
     "iopub.status.busy": "2024-09-23T08:08:06.045188Z",
     "iopub.status.idle": "2024-09-23T08:08:16.588989Z",
     "shell.execute_reply": "2024-09-23T08:08:16.588377Z",
     "shell.execute_reply.started": "2024-09-23T08:08:06.045484Z"
    },
    "tags": []
   },
   "outputs": [
    {
     "name": "stdout",
     "output_type": "stream",
     "text": [
      "funasr version: 1.1.6.\n",
      "Check update of funasr, and it would cost few times. You may disable it by set `disable_update=True` in AutoModel\n",
      "You are using the latest version of funasr-1.1.6\n",
      "2024-09-23 16:08:11,230 - modelscope - WARNING - Using branch: master as version is unstable, use with caution\n",
      "Loading remote code successfully: ./model.py\n",
      "2024-09-23 16:08:14,154 - modelscope - WARNING - Using branch: master as version is unstable, use with caution\n",
      "rtf_avg: 0.009: 100%|\u001b[34m█████████████████████████████\u001b[0m| 1/1 [00:00<00:00, 14.73it/s]\u001b[0m\n",
      "  0%|\u001b[31m                                                     \u001b[0m| 0/1 [00:00<?, ?it/s]\u001b[0m\n",
      "  0%|\u001b[34m                                                     \u001b[0m| 0/1 [00:00<?, ?it/s]\u001b[0m\u001b[A\n",
      "100%|\u001b[34m█████████████████████████████████████████████\u001b[0m| 1/1 [00:00<00:00,  3.94it/s]\u001b[0m\u001b[A\n",
      "{'load_data': '0.000', 'extract_feat': '0.003', 'forward': '0.254', 'batch_size'\u001b[A\n",
      "rtf_avg: 0.040: 100%|\u001b[34m█████████████████████████████\u001b[0m| 1/1 [00:00<00:00,  3.92it/s]\u001b[0m\u001b[A\n",
      "rtf_avg: 0.036, time_speech:  7.176, time_escape: 0.259: 100%|\u001b[31m█\u001b[0m| 1/1 [00:00<00:0\u001b[0m\n",
      "The tribal chieftain called for the boy and presented him with 50 pieces of gold.\n",
      "rtf_avg: 0.009: 100%|\u001b[34m█████████████████████████████\u001b[0m| 1/1 [00:00<00:00, 19.86it/s]\u001b[0m\n",
      "  0%|\u001b[31m                                                     \u001b[0m| 0/1 [00:00<?, ?it/s]\u001b[0m\n",
      "  0%|\u001b[34m                                                     \u001b[0m| 0/1 [00:00<?, ?it/s]\u001b[0m\u001b[A\n",
      "100%|\u001b[34m█████████████████████████████████████████████\u001b[0m| 1/1 [00:00<00:00,  4.36it/s]\u001b[0m\u001b[A\n",
      "{'load_data': '0.000', 'extract_feat': '0.004', 'forward': '0.229', 'batch_size'\u001b[A\n",
      "rtf_avg: 0.044: 100%|\u001b[34m█████████████████████████████\u001b[0m| 1/1 [00:00<00:00,  4.34it/s]\u001b[0m\u001b[A\n",
      "rtf_avg: 0.042, time_speech:  5.616, time_escape: 0.234: 100%|\u001b[31m█\u001b[0m| 1/1 [00:00<00:0\u001b[0m\n",
      "开放时间早上9点至下午5点。\n",
      "rtf_avg: 0.008: 100%|\u001b[34m█████████████████████████████\u001b[0m| 1/1 [00:00<00:00, 22.44it/s]\u001b[0m\n",
      "  0%|\u001b[31m                                                     \u001b[0m| 0/1 [00:00<?, ?it/s]\u001b[0m\n",
      "  0%|\u001b[34m                                                     \u001b[0m| 0/1 [00:00<?, ?it/s]\u001b[0m\u001b[A\n",
      "100%|\u001b[34m█████████████████████████████████████████████\u001b[0m| 1/1 [00:00<00:00,  5.12it/s]\u001b[0m\u001b[A\n",
      "{'load_data': '0.000', 'extract_feat': '0.002', 'forward': '0.195', 'batch_size'\u001b[A\n",
      "rtf_avg: 0.050: 100%|\u001b[34m█████████████████████████████\u001b[0m| 1/1 [00:00<00:00,  5.08it/s]\u001b[0m\u001b[A\n",
      "rtf_avg: 0.039, time_speech:  5.184, time_escape: 0.200: 100%|\u001b[31m█\u001b[0m| 1/1 [00:00<00:0\u001b[0m\n",
      "呢几个字都表达唔到，我想讲嘅意思。\n",
      "rtf_avg: 0.008: 100%|\u001b[34m█████████████████████████████\u001b[0m| 1/1 [00:00<00:00, 17.27it/s]\u001b[0m\n",
      "  0%|\u001b[31m                                                     \u001b[0m| 0/1 [00:00<?, ?it/s]\u001b[0m\n",
      "  0%|\u001b[34m                                                     \u001b[0m| 0/1 [00:00<?, ?it/s]\u001b[0m\u001b[A\n",
      "100%|\u001b[34m█████████████████████████████████████████████\u001b[0m| 1/1 [00:00<00:00,  4.12it/s]\u001b[0m\u001b[A\n",
      "{'load_data': '0.000', 'extract_feat': '0.004', 'forward': '0.242', 'batch_size'\u001b[A\n",
      "rtf_avg: 0.039: 100%|\u001b[34m█████████████████████████████\u001b[0m| 1/1 [00:00<00:00,  4.10it/s]\u001b[0m\u001b[A\n",
      "rtf_avg: 0.034, time_speech:  7.224, time_escape: 0.247: 100%|\u001b[31m█\u001b[0m| 1/1 [00:00<00:0\u001b[0m\n",
      "うち の 中学 は 弁当 制 で 持っ てい けない 場 合は、50 円 の 学校 販売 の パン を 買う。\n",
      "rtf_avg: 0.008: 100%|\u001b[34m█████████████████████████████\u001b[0m| 1/1 [00:00<00:00, 25.88it/s]\u001b[0m\n",
      "  0%|\u001b[31m                                                     \u001b[0m| 0/1 [00:00<?, ?it/s]\u001b[0m\n",
      "  0%|\u001b[34m                                                     \u001b[0m| 0/1 [00:00<?, ?it/s]\u001b[0m\u001b[A\n",
      "100%|\u001b[34m█████████████████████████████████████████████\u001b[0m| 1/1 [00:00<00:00,  4.82it/s]\u001b[0m\u001b[A\n",
      "{'load_data': '0.000', 'extract_feat': '0.002', 'forward': '0.207', 'batch_size'\u001b[A\n",
      "rtf_avg: 0.058: 100%|\u001b[34m█████████████████████████████\u001b[0m| 1/1 [00:00<00:00,  4.79it/s]\u001b[0m\u001b[A\n",
      "rtf_avg: 0.046, time_speech:  4.644, time_escape: 0.212: 100%|\u001b[31m█\u001b[0m| 1/1 [00:00<00:0\u001b[0m\n",
      "조 금만 생각 을 하 면서 살 면 훨씬 편할 거야.\n"
     ]
    }
   ],
   "source": [
    "!python demo1.py"
   ]
  }
 ],
 "metadata": {
  "kernelspec": {
   "display_name": "Python 3 (ipykernel)",
   "language": "python",
   "name": "python3"
  },
  "language_info": {
   "codemirror_mode": {
    "name": "ipython",
    "version": 3
   },
   "file_extension": ".py",
   "mimetype": "text/x-python",
   "name": "python",
   "nbconvert_exporter": "python",
   "pygments_lexer": "ipython3",
   "version": "3.10.14"
  }
 },
 "nbformat": 4,
 "nbformat_minor": 5
}
