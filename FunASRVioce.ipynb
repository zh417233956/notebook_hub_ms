{
 "cells": [
  {
   "cell_type": "code",
   "execution_count": 1,
   "id": "50819c5a-f2b2-41c9-b870-09ad163e7a3f",
   "metadata": {
    "execution": {
     "iopub.execute_input": "2024-09-24T03:06:18.657637Z",
     "iopub.status.busy": "2024-09-24T03:06:18.657323Z",
     "iopub.status.idle": "2024-09-24T03:06:18.802169Z",
     "shell.execute_reply": "2024-09-24T03:06:18.801580Z",
     "shell.execute_reply.started": "2024-09-24T03:06:18.657616Z"
    },
    "tags": []
   },
   "outputs": [
    {
     "ename": "ModuleNotFoundError",
     "evalue": "No module named 'pydub'",
     "output_type": "error",
     "traceback": [
      "\u001b[0;31m---------------------------------------------------------------------------\u001b[0m",
      "\u001b[0;31mModuleNotFoundError\u001b[0m                       Traceback (most recent call last)",
      "Cell \u001b[0;32mIn[1], line 1\u001b[0m\n\u001b[0;32m----> 1\u001b[0m \u001b[38;5;28;01mfrom\u001b[39;00m \u001b[38;5;21;01mpydub\u001b[39;00m \u001b[38;5;28;01mimport\u001b[39;00m AudioSegment\n\u001b[1;32m      3\u001b[0m \u001b[38;5;28;01mdef\u001b[39;00m \u001b[38;5;21msplit_channels\u001b[39m(mp3_file):\n\u001b[1;32m      4\u001b[0m     sound \u001b[38;5;241m=\u001b[39m AudioSegment\u001b[38;5;241m.\u001b[39mfrom_mp3(mp3_file)\n",
      "\u001b[0;31mModuleNotFoundError\u001b[0m: No module named 'pydub'"
     ]
    }
   ],
   "source": [
    "from pydub import AudioSegment\n",
    "\n",
    "def split_channels(mp3_file):\n",
    "    sound = AudioSegment.from_mp3(mp3_file)\n",
    "    left_channel = sound.split_to_mono()[0]\n",
    "    right_channel = sound.split_to_mono()[1]\n",
    "    return left_channel, right_channel\n",
    "\n",
    "mp3_filename = \"/mnt/workspace/demo3.mp3\"\n",
    "left, right = split_channels(mp3_filename)\n",
    "\n",
    "# 保存左声道为新的 MP3 文件\n",
    "left.export(\"/mnt/workspace/demo/left_channel.mp3\", format=\"mp3\")\n",
    "\n",
    "# 保存右声道为新的 MP3 文件\n",
    "right.export(\"/mnt/workspace/demo/right_channel.mp3\", format=\"mp3\")"
   ]
  }
 ],
 "metadata": {
  "kernelspec": {
   "display_name": "Python 3 (ipykernel)",
   "language": "python",
   "name": "python3"
  },
  "language_info": {
   "codemirror_mode": {
    "name": "ipython",
    "version": 3
   },
   "file_extension": ".py",
   "mimetype": "text/x-python",
   "name": "python",
   "nbconvert_exporter": "python",
   "pygments_lexer": "ipython3",
   "version": "3.10.14"
  }
 },
 "nbformat": 4,
 "nbformat_minor": 5
}
