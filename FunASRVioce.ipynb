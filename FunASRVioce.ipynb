{
 "cells": [
  {
   "cell_type": "code",
   "execution_count": 5,
   "id": "828ac715-8152-42ed-8f1d-c5d4459ab933",
   "metadata": {
    "execution": {
     "iopub.execute_input": "2024-09-24T03:50:54.977790Z",
     "iopub.status.busy": "2024-09-24T03:50:54.977472Z",
     "iopub.status.idle": "2024-09-24T03:50:58.702783Z",
     "shell.execute_reply": "2024-09-24T03:50:58.702206Z",
     "shell.execute_reply.started": "2024-09-24T03:50:54.977770Z"
    },
    "tags": []
   },
   "outputs": [
    {
     "name": "stdout",
     "output_type": "stream",
     "text": [
      "Looking in indexes: https://mirrors.cloud.aliyuncs.com/pypi/simple\n",
      "Requirement already satisfied: pydub in /usr/local/lib/python3.10/site-packages (0.25.1)\n",
      "\u001b[33mWARNING: Running pip as the 'root' user can result in broken permissions and conflicting behaviour with the system package manager. It is recommended to use a virtual environment instead: https://pip.pypa.io/warnings/venv\u001b[0m\u001b[33m\n",
      "\u001b[0m\n",
      "\u001b[1m[\u001b[0m\u001b[34;49mnotice\u001b[0m\u001b[1;39;49m]\u001b[0m\u001b[39;49m A new release of pip is available: \u001b[0m\u001b[31;49m23.0.1\u001b[0m\u001b[39;49m -> \u001b[0m\u001b[32;49m24.2\u001b[0m\n",
      "\u001b[1m[\u001b[0m\u001b[34;49mnotice\u001b[0m\u001b[1;39;49m]\u001b[0m\u001b[39;49m To update, run: \u001b[0m\u001b[32;49mpip install --upgrade pip\u001b[0m\n"
     ]
    }
   ],
   "source": [
    "!pip install pydub"
   ]
  },
  {
   "cell_type": "code",
   "execution_count": 6,
   "id": "50819c5a-f2b2-41c9-b870-09ad163e7a3f",
   "metadata": {
    "execution": {
     "iopub.execute_input": "2024-09-24T03:51:00.728032Z",
     "iopub.status.busy": "2024-09-24T03:51:00.727660Z",
     "iopub.status.idle": "2024-09-24T03:51:01.021662Z",
     "shell.execute_reply": "2024-09-24T03:51:01.021228Z",
     "shell.execute_reply.started": "2024-09-24T03:51:00.728004Z"
    },
    "tags": []
   },
   "outputs": [
    {
     "data": {
      "text/plain": [
       "<_io.BufferedRandom name='/mnt/workspace/demo/right_channel.mp3'>"
      ]
     },
     "execution_count": 6,
     "metadata": {},
     "output_type": "execute_result"
    }
   ],
   "source": [
    "from pydub import AudioSegment\n",
    "\n",
    "def split_channels(mp3_file):\n",
    "    sound = AudioSegment.from_mp3(mp3_file)\n",
    "    left_channel = sound.split_to_mono()[0]\n",
    "    right_channel = sound.split_to_mono()[1]\n",
    "    return left_channel, right_channel\n",
    "\n",
    "mp3_filename = \"/mnt/workspace/demo3.mp3\"\n",
    "left, right = split_channels(mp3_filename)\n",
    "\n",
    "# 保存左声道为新的 MP3 文件\n",
    "left.export(\"/mnt/workspace/demo/left_channel.mp3\", format=\"mp3\")\n",
    "\n",
    "# 保存右声道为新的 MP3 文件\n",
    "right.export(\"/mnt/workspace/demo/right_channel.mp3\", format=\"mp3\")"
   ]
  }
 ],
 "metadata": {
  "kernelspec": {
   "display_name": "Python 3 (ipykernel)",
   "language": "python",
   "name": "python3"
  },
  "language_info": {
   "codemirror_mode": {
    "name": "ipython",
    "version": 3
   },
   "file_extension": ".py",
   "mimetype": "text/x-python",
   "name": "python",
   "nbconvert_exporter": "python",
   "pygments_lexer": "ipython3",
   "version": "3.10.14"
  }
 },
 "nbformat": 4,
 "nbformat_minor": 5
}
